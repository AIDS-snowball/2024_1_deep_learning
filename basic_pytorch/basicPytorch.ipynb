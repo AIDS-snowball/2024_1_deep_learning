{
 "cells": [
  {
   "cell_type": "code",
   "execution_count": 1,
   "id": "01abc433-b0d8-458d-af31-1074012acdae",
   "metadata": {},
   "outputs": [],
   "source": [
    "import torch\n",
    "import pandas as pd\n",
    "from torch import nn\n",
    "from torch import optim\n",
    "from torch.utils.data import Dataset, DataLoader, random_split"
   ]
  },
  {
   "cell_type": "code",
   "execution_count": 2,
   "id": "914e83e6",
   "metadata": {},
   "outputs": [],
   "source": [
    "class CustomDataset(Dataset):\n",
    "    def __init__(self, file_path):\n",
    "        df = pd.read_csv(file_path)\n",
    "        self.x1 = df.iloc[:, 0].values\n",
    "        self.x2 = df.iloc[:, 1].values\n",
    "        self.y = df.iloc[:, 2].values\n",
    "        self.length = len(df)\n",
    "\n",
    "    def __getitem__(self, index):\n",
    "        x = torch.FloatTensor([self.x1[index], self.x2[index]])\n",
    "        y = torch.FloatTensor([self.y[index]])\n",
    "        return x, y\n",
    "\n",
    "    def __len__(self):\n",
    "        return self.length\n",
    "\n",
    "class CustomModel(nn.Module):\n",
    "    def __init__(self):\n",
    "        super().__init__()\n",
    "\n",
    "        self.layer1 = nn.Sequential(\n",
    "            nn.Linear(2, 2),\n",
    "            nn.Sigmoid()\n",
    "        )\n",
    "        self.layer2 = nn.Sequential(\n",
    "            nn.Linear(2, 1),\n",
    "            nn.Sigmoid()\n",
    "        )\n",
    "\n",
    "    def forward(self, x):\n",
    "        x = self.layer1(x)\n",
    "        x = self.layer2(x)\n",
    "        return x"
   ]
  },
  {
   "cell_type": "code",
   "execution_count": 3,
   "id": "f153f6c6",
   "metadata": {},
   "outputs": [],
   "source": [
    "dataset = CustomDataset(\"./perceptron.csv\")\n",
    "train_dataset, test_dataset = random_split(dataset, [int(len(dataset)*0.8), int(len(dataset)*0.2)], torch.manual_seed(4))\n",
    "train_dataloader = DataLoader(train_dataset, batch_size=64, shuffle=True, drop_last=True)\n",
    "test_dataloader = DataLoader(test_dataset, batch_size=64, shuffle=True, drop_last=True)"
   ]
  },
  {
   "cell_type": "code",
   "execution_count": 4,
   "id": "8323e7c7",
   "metadata": {},
   "outputs": [],
   "source": [
    "device = \"cuda\" if torch.cuda.is_available() else \"cpu\"\n",
    "device = \"mps\" if torch.backends.mps.is_available() else \"cpu\"\n",
    "model = CustomModel().to(device)\n",
    "criterion = nn.BCELoss().to(device)\n",
    "optimizer = optim.SGD(model.parameters(), lr=0.01)"
   ]
  },
  {
   "cell_type": "code",
   "execution_count": 5,
   "id": "1f8adf12",
   "metadata": {},
   "outputs": [],
   "source": [
    "def train(model, train_dataloader, optimizer, criterion, device, epoch):\n",
    "    model.train()\n",
    "    cost = 0\n",
    "    for x, y in train_dataloader:\n",
    "        x = x.to(device)\n",
    "        y = y.to(device)\n",
    "\n",
    "        output = model(x)\n",
    "        loss = criterion(output, y)\n",
    "\n",
    "        optimizer.zero_grad()\n",
    "        loss.backward()\n",
    "        optimizer.step()\n",
    "\n",
    "        cost += loss\n",
    "\n",
    "    cost = cost / len(train_dataloader)\n",
    "\n",
    "    if (epoch + 1) % 1000 == 0:\n",
    "        print(f\"Epoch : {epoch+1:4d}, Cost : {cost:.3f}\")\n",
    "\n",
    "def evaluate(model, test_dataloader, criterion, device):\n",
    "    model.eval()  \n",
    "    cost = 0\n",
    "\n",
    "    with torch.no_grad():  \n",
    "        for x, y in test_dataloader:\n",
    "            x = x.to(device)\n",
    "            y = y.to(device)\n",
    "\n",
    "            output = model(x)\n",
    "            loss = criterion(output, y)\n",
    "            cost += loss\n",
    "\n",
    "    cost /= len(test_dataloader)\n",
    "    return cost\n"
   ]
  },
  {
   "cell_type": "code",
   "execution_count": 6,
   "id": "b353360e",
   "metadata": {},
   "outputs": [
    {
     "name": "stderr",
     "output_type": "stream",
     "text": [
      "/var/folders/fx/ngvhqygx7vxbdk_cgfnxnz880000gn/T/ipykernel_5111/4096481949.py:10: DeprecationWarning: In future, it will be an error for 'np.bool_' scalars to be interpreted as an index\n",
      "  x = torch.FloatTensor([self.x1[index], self.x2[index]])\n",
      "/var/folders/fx/ngvhqygx7vxbdk_cgfnxnz880000gn/T/ipykernel_5111/4096481949.py:11: DeprecationWarning: In future, it will be an error for 'np.bool_' scalars to be interpreted as an index\n",
      "  y = torch.FloatTensor([self.y[index]])\n"
     ]
    },
    {
     "name": "stdout",
     "output_type": "stream",
     "text": [
      "Epoch : 1000, Cost : 0.690\n",
      "\n",
      "[EPOCH: 1000], Test cost: 0.6908\n",
      "\n",
      "Epoch : 2000, Cost : 0.606\n",
      "\n",
      "[EPOCH: 2000], Test cost: 0.6064\n",
      "\n",
      "Epoch : 3000, Cost : 0.501\n",
      "\n",
      "[EPOCH: 3000], Test cost: 0.5069\n",
      "\n",
      "Epoch : 4000, Cost : 0.444\n",
      "\n",
      "[EPOCH: 4000], Test cost: 0.4592\n",
      "\n",
      "Epoch : 5000, Cost : 0.192\n",
      "\n",
      "[EPOCH: 5000], Test cost: 0.1934\n",
      "\n",
      "Epoch : 6000, Cost : 0.069\n",
      "\n",
      "[EPOCH: 6000], Test cost: 0.0697\n",
      "\n",
      "Epoch : 7000, Cost : 0.039\n",
      "\n",
      "[EPOCH: 7000], Test cost: 0.0397\n",
      "\n",
      "Epoch : 8000, Cost : 0.027\n",
      "\n",
      "[EPOCH: 8000], Test cost: 0.0272\n",
      "\n",
      "Epoch : 9000, Cost : 0.021\n",
      "\n",
      "[EPOCH: 9000], Test cost: 0.0205\n",
      "\n",
      "Epoch : 10000, Cost : 0.016\n",
      "\n",
      "[EPOCH: 10000], Test cost: 0.0165\n",
      "\n"
     ]
    }
   ],
   "source": [
    "for epoch in range(10000):\n",
    "    train(model, train_dataloader, optimizer, criterion, device, epoch)\n",
    "    \n",
    "    if (epoch + 1) % 1000 == 0:\n",
    "        test_loss = evaluate(model, test_dataloader, criterion, device)\n",
    "        print(\"\\n[EPOCH: {}], Test cost: {:.4f}\\n\".format(epoch + 1, test_loss))\n"
   ]
  },
  {
   "cell_type": "code",
   "execution_count": 7,
   "id": "cb00b065",
   "metadata": {},
   "outputs": [],
   "source": [
    "torch.save(model, 'model.pth')"
   ]
  },
  {
   "cell_type": "code",
   "execution_count": 8,
   "id": "774b4da2",
   "metadata": {},
   "outputs": [],
   "source": [
    "model = torch.load('model.pth')"
   ]
  }
 ],
 "metadata": {
  "kernelspec": {
   "display_name": "Python 3 (ipykernel)",
   "language": "python",
   "name": "python3"
  },
  "language_info": {
   "codemirror_mode": {
    "name": "ipython",
    "version": 3
   },
   "file_extension": ".py",
   "mimetype": "text/x-python",
   "name": "python",
   "nbconvert_exporter": "python",
   "pygments_lexer": "ipython3",
   "version": "3.11.7"
  }
 },
 "nbformat": 4,
 "nbformat_minor": 5
}
